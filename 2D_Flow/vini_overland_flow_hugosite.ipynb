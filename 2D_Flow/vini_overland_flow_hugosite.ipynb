{
 "cells": [
  {
   "cell_type": "markdown",
   "metadata": {},
   "source": [
    "<a href=\"http://landlab.github.io\"><img style=\"float: left\" src=\"../../media/landlab_header.png\"></a>"
   ]
  },
  {
   "cell_type": "markdown",
   "metadata": {},
   "source": [
    "# The deAlmeida Overland Flow Component "
   ]
  },
  {
   "cell_type": "markdown",
   "metadata": {},
   "source": [
    "<hr>\n",
    "<small>For more Landlab tutorials, click here: <a href=\"https://landlab.readthedocs.io/en/latest/user_guide/tutorials.html\">https://landlab.readthedocs.io/en/latest/user_guide/tutorials.html</a></small>\n",
    "<hr>"
   ]
  },
  {
   "cell_type": "markdown",
   "metadata": {},
   "source": [
    "This notebook illustrates running the deAlmeida overland flow component in an extremely simple-minded way on a real topography, then shows it creating a flood sequence along an inclined surface with an oscillating water surface at one end.\n",
    "\n",
    "First, import what we'll need:"
   ]
  },
  {
   "cell_type": "code",
   "execution_count": 133,
   "metadata": {},
   "outputs": [],
   "source": [
    "from landlab.components.overland_flow import OverlandFlow\n",
    "from landlab.plot.imshow import imshow_grid\n",
    "from landlab.plot.colors import water_colormap\n",
    "from landlab import RasterModelGrid\n",
    "from landlab.io.esri_ascii import read_esri_ascii\n",
    "from landlab.plot.graph import plot_graph\n",
    "from landlab.plot.graph import plot_nodes\n",
    "from matplotlib.pyplot import figure\n",
    "import numpy as np\n",
    "from time import time\n",
    "%matplotlib inline"
   ]
  },
  {
   "cell_type": "markdown",
   "metadata": {},
   "source": [
    "Pick the initial and run conditions"
   ]
  },
  {
   "cell_type": "code",
   "execution_count": 134,
   "metadata": {},
   "outputs": [],
   "source": [
    "run_time = 100  # duration of run, (s)\n",
    "h_init = 0.1  # initial thin layer of water (m)\n",
    "n = 0.01  # roughness coefficient, (s/m^(1/3))\n",
    "g = 9.8  # gravity (m/s^2)\n",
    "alpha = 0.7  # time-step factor (nondimensional; from Bates et al., 2010)\n",
    "u = 0.4  # constant velocity (m/s, de Almeida et al., 2012)\n",
    "run_time_slices = (10, 50, 100)"
   ]
  },
  {
   "cell_type": "markdown",
   "metadata": {},
   "source": [
    "Elapsed time starts at 1 second. This prevents errors when setting our boundary conditions."
   ]
  },
  {
   "cell_type": "code",
   "execution_count": 135,
   "metadata": {},
   "outputs": [],
   "source": [
    "elapsed_time = 1.0"
   ]
  },
  {
   "cell_type": "markdown",
   "metadata": {},
   "source": [
    "#### Import hugo_site.asc dem"
   ]
  },
  {
   "cell_type": "code",
   "execution_count": 136,
   "metadata": {},
   "outputs": [],
   "source": [
    "gm,z = read_esri_ascii(\"espin/lessons/landlab/hugo_site.asc\", name='topographic__elevation')"
   ]
  },
  {
   "cell_type": "code",
   "execution_count": 137,
   "metadata": {},
   "outputs": [],
   "source": [
    "# Indicates that a boundary node is closed\n",
    "gm.status_at_node[z<0.0] = gm.BC_NODE_IS_CLOSED"
   ]
  },
  {
   "cell_type": "markdown",
   "metadata": {},
   "source": [
    "Use Landlab methods to import an ARC ascii grid, and load the data into the field that the component needs to look at to get the data. This loads the elevation data, z, into a \"field\" in the grid itself, defined on the nodes."
   ]
  },
  {
   "cell_type": "markdown",
   "metadata": {},
   "source": [
    "We can get at this data with this syntax:"
   ]
  },
  {
   "cell_type": "code",
   "execution_count": 138,
   "metadata": {},
   "outputs": [
    {
     "data": {
      "text/plain": [
       "True"
      ]
     },
     "execution_count": 138,
     "metadata": {},
     "output_type": "execute_result"
    }
   ],
   "source": [
    "np.all(gm.at_node['topographic__elevation'] == z)"
   ]
  },
  {
   "cell_type": "code",
   "execution_count": 139,
   "metadata": {},
   "outputs": [
    {
     "data": {
      "image/png": "[encoded data removed]",
      "text/plain": [
       "<Figure size 432x288 with 2 Axes>"
      ]
     },
     "metadata": {
      "needs_background": "light"
     },
     "output_type": "display_data"
    }
   ],
   "source": [
    "# check DEM\n",
    "imshow_grid(gm, 'topographic__elevation')"
   ]
  },
  {
   "cell_type": "code",
   "execution_count": 140,
   "metadata": {},
   "outputs": [],
   "source": [
    "my_outlet_node = 100  # This DEM was generated using Landlab and the outlet node ID was known\n",
    "gm.status_at_node[my_outlet_node] = gm.BC_NODE_IS_FIXED_VALUE"
   ]
  },
  {
   "cell_type": "code",
   "execution_count": null,
   "metadata": {},
   "outputs": [],
   "source": []
  },
  {
   "cell_type": "code",
   "execution_count": 141,
   "metadata": {},
   "outputs": [
    {
     "data": {
      "text/plain": [
       "[<matplotlib.lines.Line2D at 0x7fc532612be0>]"
      ]
     },
     "execution_count": 141,
     "metadata": {},
     "output_type": "execute_result"
    },
    {
     "data": {
      "image/png": "[encoded data removed]",
      "text/plain": [
       "<Figure size 432x288 with 1 Axes>"
      ]
     },
     "metadata": {
      "needs_background": "light"
     },
     "output_type": "display_data"
    }
   ],
   "source": [
    "import matplotlib.pyplot as plt\n",
    "plt.plot(gm.x_of_node, gm.y_of_node, '.')"
   ]
  },
  {
   "cell_type": "markdown",
   "metadata": {},
   "source": [
    "Now initialize a couple more grid fields that the component is going to need:"
   ]
  },
  {
   "cell_type": "code",
   "execution_count": 142,
   "metadata": {},
   "outputs": [
    {
     "data": {
      "text/plain": [
       "array([ 0.,  0.,  0., ...,  0.,  0.,  0.])"
      ]
     },
     "execution_count": 142,
     "metadata": {},
     "output_type": "execute_result"
    }
   ],
   "source": [
    "# rmg.add_zeros('surface_water__depth', at='node')  # water depth (m)\n",
    "gm.add_zeros('surface_water__depth', at='node')  # water depth (m)"
   ]
  },
  {
   "cell_type": "code",
   "execution_count": 143,
   "metadata": {},
   "outputs": [],
   "source": [
    "# rmg.at_node['surface_water__depth'] += h_init\n",
    "gm.at_node['surface_water__depth'] += h_init\n"
   ]
  },
  {
   "cell_type": "markdown",
   "metadata": {},
   "source": [
    "Now instantiate the component itself"
   ]
  },
  {
   "cell_type": "code",
   "execution_count": 144,
   "metadata": {},
   "outputs": [],
   "source": [
    "of = OverlandFlow(\n",
    "    gm, steep_slopes=True\n",
    ")  #for stability in steeper environments, we set the steep_slopes flag to True"
   ]
  },
  {
   "cell_type": "markdown",
   "metadata": {},
   "source": [
    "Now we're going to run the loop that drives the component:"
   ]
  },
  {
   "cell_type": "code",
   "execution_count": 145,
   "metadata": {},
   "outputs": [
    {
     "name": "stdout",
     "output_type": "stream",
     "text": [
      "Elapsed time:  1.0\n",
      "Elapsed time:  8.06831651287\n",
      "Elapsed time:  13.3367285826\n",
      "Elapsed time:  17.6225249911\n",
      "Elapsed time:  21.2794440676\n",
      "Elapsed time:  24.4902385331\n",
      "Elapsed time:  27.3613599621\n",
      "Elapsed time:  29.9623944982\n",
      "Elapsed time:  32.3388092116\n",
      "Elapsed time:  34.5370479073\n",
      "Elapsed time:  36.5898281083\n",
      "Elapsed time:  38.5163208574\n",
      "Elapsed time:  40.3620961731\n",
      "Elapsed time:  42.1686175759\n",
      "Elapsed time:  43.9586528355\n",
      "Elapsed time:  45.7365750053\n",
      "Elapsed time:  47.4951644106\n",
      "Elapsed time:  49.2260124006\n",
      "Elapsed time:  50.9267112269\n",
      "Elapsed time:  52.6019922626\n",
      "Elapsed time:  54.2593071745\n",
      "Elapsed time:  55.9031317576\n",
      "Elapsed time:  57.5335948295\n",
      "Elapsed time:  59.1482655563\n",
      "Elapsed time:  60.7455401729\n",
      "Elapsed time:  62.3260364576\n",
      "Elapsed time:  63.8919946853\n",
      "Elapsed time:  65.4456635775\n",
      "Elapsed time:  66.985359343\n",
      "Elapsed time:  68.5145658154\n",
      "Elapsed time:  70.0343828197\n",
      "Elapsed time:  71.5411426969\n",
      "Elapsed time:  73.0282558801\n",
      "Elapsed time:  74.5152798313\n",
      "Elapsed time:  75.9974498298\n",
      "Elapsed time:  77.481297305\n",
      "Elapsed time:  78.9540435313\n",
      "Elapsed time:  80.4273291482\n",
      "Elapsed time:  81.8951307346\n",
      "Elapsed time:  83.3550945679\n",
      "Elapsed time:  84.8232888551\n",
      "Elapsed time:  86.2875406224\n",
      "Elapsed time:  87.7405142619\n",
      "Elapsed time:  89.1957953693\n",
      "Elapsed time:  90.6494669262\n",
      "Elapsed time:  92.0980368434\n",
      "Elapsed time:  93.5502132972\n",
      "Elapsed time:  94.998157497\n",
      "Elapsed time:  96.4382191962\n",
      "Elapsed time:  97.8733425694\n",
      "Elapsed time:  99.3204257843\n"
     ]
    }
   ],
   "source": [
    "while elapsed_time < run_time:\n",
    "    # First, we calculate our time step.\n",
    "    dt = of.calc_time_step()\n",
    "    # Now, we can generate overland flow.\n",
    "    of.overland_flow()\n",
    "    # Increased elapsed time\n",
    "    print('Elapsed time: ', elapsed_time)\n",
    "    elapsed_time += dt"
   ]
  },
  {
   "cell_type": "code",
   "execution_count": 146,
   "metadata": {},
   "outputs": [
    {
     "data": {
      "image/png": "[encoded data removed]",
      "text/plain": [
       "<Figure size 432x288 with 2 Axes>"
      ]
     },
     "metadata": {
      "needs_background": "light"
     },
     "output_type": "display_data"
    }
   ],
   "source": [
    "imshow_grid(gm, 'surface_water__depth', cmap='Blues')"
   ]
  },
  {
   "cell_type": "markdown",
   "metadata": {},
   "source": [
    "Now let's get clever, and run a set of time slices:"
   ]
  },
  {
   "cell_type": "code",
   "execution_count": 147,
   "metadata": {},
   "outputs": [
    {
     "data": {
      "image/png": "[encoded data removed]",
      "text/plain": [
       "<Figure size 432x288 with 2 Axes>"
      ]
     },
     "metadata": {
      "needs_background": "light"
     },
     "output_type": "display_data"
    },
    {
     "data": {
      "image/png": "[encoded data removed]",
      "text/plain": [
       "<Figure size 432x288 with 2 Axes>"
      ]
     },
     "metadata": {
      "needs_background": "light"
     },
     "output_type": "display_data"
    },
    {
     "data": {
      "image/png": "[encoded data removed]",
      "text/plain": [
       "<Figure size 432x288 with 2 Axes>"
      ]
     },
     "metadata": {
      "needs_background": "light"
     },
     "output_type": "display_data"
    }
   ],
   "source": [
    "elapsed_time = 1.\n",
    "for t in run_time_slices:\n",
    "    while elapsed_time < t:\n",
    "        # First, we calculate our time step.\n",
    "        dt = of.calc_time_step()\n",
    "        # Now, we can generate overland flow.\n",
    "        of.overland_flow()\n",
    "        # Increased elapsed time\n",
    "        elapsed_time += dt\n",
    "    figure(t)\n",
    "    imshow_grid(gm, 'surface_water__depth', cmap='Blues')"
   ]
  },
  {
   "cell_type": "markdown",
   "metadata": {
    "collapsed": true
   },
   "source": [
    "### Click here for more <a href=\"https://landlab.readthedocs.io/en/latest/user_guide/tutorials.html\">Landlab tutorials</a>"
   ]
  }
 ],
 "metadata": {
  "kernelspec": {
   "display_name": "Python 3",
   "language": "python",
   "name": "python3"
  },
  "language_info": {
   "codemirror_mode": {
    "name": "ipython",
    "version": 3
   },
   "file_extension": ".py",
   "mimetype": "text/x-python",
   "name": "python",
   "nbconvert_exporter": "python",
   "pygments_lexer": "ipython3",
   "version": "3.6.10"
  }
 },
 "nbformat": 4,
 "nbformat_minor": 1
}
